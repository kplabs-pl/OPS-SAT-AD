{
 "cells": [
  {
   "cell_type": "code",
   "execution_count": 1,
   "id": "7037bd77",
   "metadata": {
    "ExecuteTime": {
     "end_time": "2023-12-27T19:44:52.939266810Z",
     "start_time": "2023-12-27T19:44:52.870100810Z"
    }
   },
   "outputs": [],
   "source": [
    "import pandas as pd\n",
    "import numpy as np\n",
    "from scipy import signal as sig\n",
    "from scipy.stats import kurtosis, skew\n",
    "import matplotlib.pyplot as plt\n",
    "from tqdm import tqdm"
   ]
  },
  {
   "cell_type": "code",
   "execution_count": 2,
   "id": "7ad0d4b3",
   "metadata": {
    "ExecuteTime": {
     "end_time": "2023-12-27T19:44:57.629576579Z",
     "start_time": "2023-12-27T19:44:55.116454638Z"
    }
   },
   "outputs": [
    {
     "name": "stdout",
     "output_type": "stream",
     "text": [
      "Number of input rows: 303493, and segments: 2123\n"
     ]
    }
   ],
   "source": [
    "source_df = pd.read_csv(\"data/segments.csv\", parse_dates=['timestamp'])\n",
    "print(f\"Number of input rows: {len(source_df)}, and segments: {len(source_df.segment.unique())}\")"
   ]
  },
  {
   "cell_type": "code",
   "execution_count": 3,
   "id": "a969ccbe",
   "metadata": {
    "ExecuteTime": {
     "end_time": "2023-12-27T19:45:01.345679499Z",
     "start_time": "2023-12-27T19:45:01.305158964Z"
    }
   },
   "outputs": [],
   "source": [
    "def number_of_peaks_finding(array):\n",
    "    prominence = 0.1 * (np.max(array)-np.min(array))\n",
    "    peaks = sig.find_peaks(array, prominence=prominence)[0]\n",
    "    return len(peaks)\n",
    "\n",
    "\n",
    "def duration(df):\n",
    "    t1 = pd.Timestamp(df.head(1).timestamp.values[0])\n",
    "    t2 = pd.Timestamp(df.tail(1).timestamp.values[0])\n",
    "    return (t2 - t1).seconds\n",
    "\n",
    "\n",
    "def smooth10_n_peaks(array):\n",
    "    kernel = np.ones(10)/10\n",
    "    array_convolved = np.convolve(array, kernel, mode=\"same\")\n",
    "    return number_of_peaks_finding(array_convolved)\n",
    "\n",
    "\n",
    "def smooth20_n_peaks(array):\n",
    "    kernel = np.ones(20)/20\n",
    "    array_convolved = np.convolve(array, kernel, mode=\"same\")\n",
    "    return number_of_peaks_finding(array_convolved)\n",
    "\n",
    "\n",
    "def diff_peaks(array):\n",
    "    array_diff = np.diff(array)\n",
    "    return number_of_peaks_finding(array_diff)\n",
    "\n",
    "\n",
    "def diff2_peaks(array):\n",
    "    array_diff = np.diff(array, n=2)\n",
    "    return number_of_peaks_finding(array_diff)\n",
    "\n",
    "\n",
    "def diff_var(array):\n",
    "    array_diff = np.diff(array)\n",
    "    return np.var(array_diff)\n",
    "\n",
    "\n",
    "def diff2_var(array):\n",
    "    array_diff = np.diff(array, n=2)\n",
    "    return np.var(array_diff)\n",
    "\n",
    "\n",
    "def gaps_squared(df):\n",
    "    df = df.copy()\n",
    "    # df[\"timestamp\"] = pd.to_datetime(df[\"timestamp\"])\n",
    "    df['timestamp2'] = df['timestamp'].shift(1)\n",
    "    df = df.reset_index().iloc[1:, :]\n",
    "    df['time_delta'] = (df.timestamp - df.timestamp2).dt.seconds\n",
    "    df['time_delta_squared'] = df['time_delta']**2\n",
    "    return df.time_delta_squared.sum()"
   ]
  },
  {
   "cell_type": "code",
   "execution_count": 4,
   "id": "8d55afb3",
   "metadata": {
    "ExecuteTime": {
     "end_time": "2023-12-27T19:45:02.944177857Z",
     "start_time": "2023-12-27T19:45:02.887728129Z"
    }
   },
   "outputs": [],
   "source": [
    "transformations = {\n",
    "    \"len\" : len,\n",
    "    \"mean\" : np.mean,\n",
    "    \"var\" : np.var,\n",
    "    \"std\" : np.std,\n",
    "    \"kurtosis\" : kurtosis,\n",
    "    \"skew\" : skew,\n",
    "    \"n_peaks\" : number_of_peaks_finding,\n",
    "    \"smooth10_n_peaks\": smooth10_n_peaks,\n",
    "    \"smooth20_n_peaks\": smooth20_n_peaks,\n",
    "    \"diff_peaks\" : diff_peaks,\n",
    "    \"diff2_peaks\" : diff2_peaks,\n",
    "    \"diff_var\" : diff_var,\n",
    "    \"diff2_var\" : diff2_var,\n",
    "}"
   ]
  },
  {
   "cell_type": "code",
   "execution_count": 5,
   "id": "2033aaad",
   "metadata": {
    "ExecuteTime": {
     "end_time": "2023-12-27T19:45:08.020179336Z",
     "start_time": "2023-12-27T19:45:07.985519275Z"
    }
   },
   "outputs": [],
   "source": [
    "def generate_dataset(source_df, target_name):\n",
    "    dataset = []\n",
    "    for i in tqdm(source_df.segment.unique()):\n",
    "        res = []\n",
    "        tdf = source_df.loc[source_df.segment == i, :]\n",
    "        if tdf.loc[:, \"anomaly\"].head(1).values == 1:\n",
    "            anomaly = 1\n",
    "        else:\n",
    "            anomaly = 0\n",
    "\n",
    "        res.append(i)\n",
    "        res.append(anomaly)\n",
    "        res.append(tdf.loc[:, \"train\"].head(1).values[0])\n",
    "        res.append(tdf.loc[:, \"channel\"].head(1).values[0])\n",
    "        res.append(tdf.loc[:, \"sampling\"].head(1).values[0])\n",
    "        res.append(duration(tdf))\n",
    "\n",
    "        for transformation in transformations.values():\n",
    "            res.append(transformation(tdf.value.values))\n",
    "        res.append(gaps_squared(tdf))    \n",
    "        \n",
    "        dataset.append(res)\n",
    "\n",
    "    dataset = pd.DataFrame(data=dataset, columns=\\\n",
    "        [\"segment\", \"anomaly\", \"train\", \"channel\", \"sampling\", \"duration\"]\n",
    "        +list(transformations)+[\"gaps_squared\"])\n",
    "\n",
    "    dataset[\"len_weighted\"] = dataset[\"sampling\"] * dataset[\"len\"]\n",
    "    dataset[\"var_div_duration\"] = dataset[\"var\"] / dataset[\"duration\"]\n",
    "    dataset[\"var_div_len\"] = dataset[\"var\"] / dataset[\"len\"]\n",
    "    \n",
    "    dataset.to_csv(\"data/\"+target_name+\".csv\", index=None)\n",
    "    return dataset"
   ]
  },
  {
   "cell_type": "code",
   "execution_count": 6,
   "id": "fd533c34",
   "metadata": {
    "ExecuteTime": {
     "end_time": "2023-12-27T19:45:59.238067563Z",
     "start_time": "2023-12-27T19:45:09.631956764Z"
    }
   },
   "outputs": [
    {
     "name": "stderr",
     "output_type": "stream",
     "text": [
      "100%|██████████████████████████████████████| 2123/2123 [00:05<00:00, 383.91it/s]\n"
     ]
    }
   ],
   "source": [
    "dataset = generate_dataset(source_df, \"__dataset\")"
   ]
  },
  {
   "cell_type": "code",
   "execution_count": 7,
   "id": "43e31afd",
   "metadata": {},
   "outputs": [
    {
     "data": {
      "text/plain": [
       "train  anomaly\n",
       "0      0           416\n",
       "       1           113\n",
       "1      0          1273\n",
       "       1           321\n",
       "Name: segment, dtype: int64"
      ]
     },
     "execution_count": 7,
     "metadata": {},
     "output_type": "execute_result"
    }
   ],
   "source": [
    "dataset.groupby(by=['train', 'anomaly'])['segment'].count()"
   ]
  }
 ],
 "metadata": {
  "kernelspec": {
   "display_name": "Python 3 (ipykernel)",
   "language": "python",
   "name": "python3"
  },
  "language_info": {
   "codemirror_mode": {
    "name": "ipython",
    "version": 3
   },
   "file_extension": ".py",
   "mimetype": "text/x-python",
   "name": "python",
   "nbconvert_exporter": "python",
   "pygments_lexer": "ipython3",
   "version": "3.9.18"
  },
  "varInspector": {
   "cols": {
    "lenName": 16,
    "lenType": 16,
    "lenVar": 40
   },
   "kernels_config": {
    "python": {
     "delete_cmd_postfix": "",
     "delete_cmd_prefix": "del ",
     "library": "var_list.py",
     "varRefreshCmd": "print(var_dic_list())"
    },
    "r": {
     "delete_cmd_postfix": ") ",
     "delete_cmd_prefix": "rm(",
     "library": "var_list.r",
     "varRefreshCmd": "cat(var_dic_list()) "
    }
   },
   "types_to_exclude": [
    "module",
    "function",
    "builtin_function_or_method",
    "instance",
    "_Feature"
   ],
   "window_display": false
  }
 },
 "nbformat": 4,
 "nbformat_minor": 5
}
